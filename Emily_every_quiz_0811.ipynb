{
 "cells": [
  {
   "cell_type": "markdown",
   "metadata": {},
   "source": [
    "# 欢迎来到每日一题\n"
   ]
  },
  {
   "cell_type": "markdown",
   "metadata": {},
   "source": [
    "1.请以自请以自己的理解，解释召回率的作用？（难度等级：2）"
   ]
  },
  {
   "cell_type": "markdown",
   "metadata": {},
   "source": [
    "2.K折交叉验证可以产生___个结果，这些结果最后按照某种策略结合。（难度等级：2）"
   ]
  },
  {
   "cell_type": "markdown",
   "metadata": {},
   "source": [
    "3.欠拟合表示什么含义？请以自己的理解简述。（难度等级：1）"
   ]
  },
  {
   "cell_type": "markdown",
   "metadata": {},
   "source": [
    "4.过拟合表示什么含义？请以自己的理解简述。（难度等级：1）"
   ]
  },
  {
   "cell_type": "markdown",
   "metadata": {},
   "source": [
    "5.过拟合对应高方差还是高偏差?（难度等级：2）"
   ]
  },
  {
   "cell_type": "markdown",
   "metadata": {},
   "source": [
    "6.K交叉验证将初始样本分为__个子样本，___个子样本作为验证集，___个子样本作为训练集.（难度等级2）"
   ]
  },
  {
   "cell_type": "markdown",
   "metadata": {},
   "source": [
    "7.欠拟合对应高方差还是高偏差？（难度等级2）"
   ]
  },
  {
   "cell_type": "markdown",
   "metadata": {},
   "source": [
    "8.请列出至少两种解决过拟合问题的方式？（难度等级2）"
   ]
  },
  {
   "cell_type": "markdown",
   "metadata": {},
   "source": [
    "9.请列出至少两种解决欠拟合问题的方式？（难度等级2）"
   ]
  },
  {
   "cell_type": "markdown",
   "metadata": {},
   "source": [
    "10.欠拟合模型对应着较__的训练误差和较__的测试误差。（难度等级2）"
   ]
  },
  {
   "cell_type": "markdown",
   "metadata": {},
   "source": [
    "11.过拟合模型对应着较__的训练误差和较__的测试误差。（难度等级2）"
   ]
  },
  {
   "cell_type": "markdown",
   "metadata": {},
   "source": [
    "12.训练数据可以包含验证集么？为什么？（难度等级2）"
   ]
  },
  {
   "cell_type": "markdown",
   "metadata": {},
   "source": [
    "13.一般情况下，数据集可以划分为___, ___, ___。请分别解释三种子数据集的作用？（难度等级2）"
   ]
  },
  {
   "cell_type": "markdown",
   "metadata": {},
   "source": []
  },
  {
   "cell_type": "markdown",
   "metadata": {},
   "source": [
    "14.![title](0811_14.jpg)\n",
    "绿线为训练集误差，黄线为交叉验证集误差，请回答：这种学习曲线对应的模型有什么问题？对应高偏差还是高方差？"
   ]
  },
  {
   "cell_type": "markdown",
   "metadata": {},
   "source": [
    "15.![title](0811_15.jpg)绿线为训练集误差，黄线为交叉验证集误差，请回答：这种学习曲线对应的模型有什么问题？对应高偏差还是高方差？（难度等级：1）"
   ]
  },
  {
   "cell_type": "markdown",
   "metadata": {},
   "source": [
    "16.请列举至少三种超参数的类型。（难度等级：1）"
   ]
  },
  {
   "cell_type": "markdown",
   "metadata": {},
   "source": [
    "17.请你介绍几种正则化项 （难度等级：2）"
   ]
  }
 ],
 "metadata": {
  "anaconda-cloud": {},
  "celltoolbar": "Raw Cell Format",
  "kernelspec": {
   "display_name": "Python 3",
   "language": "python",
   "name": "python3"
  },
  "language_info": {
   "codemirror_mode": {
    "name": "ipython",
    "version": 3
   },
   "file_extension": ".py",
   "mimetype": "text/x-python",
   "name": "python",
   "nbconvert_exporter": "python",
   "pygments_lexer": "ipython3",
   "version": "3.6.2"
  }
 },
 "nbformat": 4,
 "nbformat_minor": 1
}
