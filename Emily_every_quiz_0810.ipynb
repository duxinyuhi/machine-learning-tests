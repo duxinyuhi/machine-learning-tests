{
 "cells": [
  {
   "cell_type": "markdown",
   "metadata": {},
   "source": [
    "# 欢迎来到每日一题\n"
   ]
  },
  {
   "cell_type": "markdown",
   "metadata": {},
   "source": [
    "1.请以自己的理解，解释召回率的作用？（难度等级：2）"
   ]
  },
  {
   "cell_type": "markdown",
   "metadata": {},
   "source": [
    "2.精度和召回率有什么样的关系？?（难度等级：2）"
   ]
  },
  {
   "cell_type": "markdown",
   "metadata": {},
   "source": [
    "3.假设样本总数为20000，模型的真正例，真负例，假正例，假负例的数量分别为10000,1000,3000,6000，请计算该模型的召回率。（难度等级：3）"
   ]
  },
  {
   "cell_type": "markdown",
   "metadata": {},
   "source": [
    "4.已知样本总数，真正例，真负例，假正例，假负例数量的情况下，请写出计算模型召回率的表达式。（难度等级：2）"
   ]
  },
  {
   "cell_type": "markdown",
   "metadata": {},
   "source": [
    "5.假设样本总数为20000，模型的真正例，真负例，假正例，假负例的数量分别为10000,2000,6000,2000，请计算该模型的精度。（难度等级：3）"
   ]
  },
  {
   "cell_type": "markdown",
   "metadata": {},
   "source": [
    "6.已知样本总数，真正例，真负例，假正例，假负例数量的情况下，请写出计算模型精度的表达式。（难度等级2）"
   ]
  },
  {
   "cell_type": "markdown",
   "metadata": {},
   "source": [
    "7.请以自己的理解解释：F1得分是什么？为什么需要F1得分？（难度等级2）"
   ]
  },
  {
   "cell_type": "markdown",
   "metadata": {},
   "source": [
    "8.假设模型的召回率是57%，精度是83%，请计算该模型的F1得分。（难度等级3）"
   ]
  },
  {
   "cell_type": "markdown",
   "metadata": {},
   "source": [
    "9.假设模型的召回率是80%，精度是53%，试着估测一下，F1得分会更接近于召回率还是精度？（难度等级3）"
   ]
  },
  {
   "cell_type": "markdown",
   "metadata": {},
   "source": [
    "10.F-β得分，β的取值范围是多少？在取最小值时，计算结果对应召回率还是精度？（难度等级2）"
   ]
  },
  {
   "cell_type": "markdown",
   "metadata": {},
   "source": [
    "11.F-β得分的区间是什么？与F1得分有什么关系？（难度等级2）"
   ]
  },
  {
   "cell_type": "markdown",
   "metadata": {},
   "source": [
    "12.对于F-β得分，β=1是对应着召回率和精度的调和平均数，若是β逐渐增大，则得分会逐渐偏向于召回率还是精度？（难度等级2）"
   ]
  },
  {
   "cell_type": "markdown",
   "metadata": {},
   "source": [
    "13.完美拆分的ROC曲线下方的面积是多少？（难度等级2）"
   ]
  },
  {
   "cell_type": "markdown",
   "metadata": {},
   "source": [
    "14.ROC分析的输出结果可以将数据分成几种类别？（难度等级2）"
   ]
  },
  {
   "cell_type": "markdown",
   "metadata": {},
   "source": [
    "15.定义一个分类器classifier，现要求基于数据集X进行预测，请写出该条代码。（难度等级：1）"
   ]
  },
  {
   "cell_type": "markdown",
   "metadata": {},
   "source": [
    "16.一组数据真实值为y，模型的预测值为pred，若采用均方根误差作为模型性能的衡量指标，请写出该条代码。（难度等级：1）"
   ]
  },
  {
   "cell_type": "markdown",
   "metadata": {},
   "source": [
    "17.R^2决定系数的意义（难度等级：2）"
   ]
  }
 ],
 "metadata": {
  "anaconda-cloud": {},
  "celltoolbar": "Raw Cell Format",
  "kernelspec": {
   "display_name": "Python 3",
   "language": "python",
   "name": "python3"
  },
  "language_info": {
   "codemirror_mode": {
    "name": "ipython",
    "version": 3
   },
   "file_extension": ".py",
   "mimetype": "text/x-python",
   "name": "python",
   "nbconvert_exporter": "python",
   "pygments_lexer": "ipython3",
   "version": "3.6.2"
  }
 },
 "nbformat": 4,
 "nbformat_minor": 1
}
