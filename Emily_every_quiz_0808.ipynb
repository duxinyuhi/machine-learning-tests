{
 "cells": [
  {
   "cell_type": "markdown",
   "metadata": {},
   "source": [
    "# 欢迎来到每日一题\n"
   ]
  },
  {
   "cell_type": "markdown",
   "metadata": {},
   "source": [
    "1.Pandas使用什么命令读取一个数据集中的数据？（难度等级：1）"
   ]
  },
  {
   "cell_type": "markdown",
   "metadata": {},
   "source": [
    "2.假设某一数据集有A,B,C三列数据，请写出同时读取B，C两列数据的代码。（假设数据已经读取并存储为df）（难度等级：1）"
   ]
  },
  {
   "cell_type": "markdown",
   "metadata": {},
   "source": [
    "3.请将pandas DataFrames转变为NumPy数组。（假设数据已经读取并存储为df）（难度等级：1）"
   ]
  },
  {
   "cell_type": "markdown",
   "metadata": {},
   "source": [
    "4.请列举至少三种机器学习领域的回归算法。（难度等级：2）"
   ]
  },
  {
   "cell_type": "markdown",
   "metadata": {},
   "source": [
    "5.定义一个分类器classifier，现要求对X，y进行拟合，请写出该条代码。（提示：可以使用fit()）（难度等级：1）"
   ]
  },
  {
   "cell_type": "markdown",
   "metadata": {},
   "source": [
    "6.填空：利用sklearn定义逻辑回归分类器classifier=_______。（难度等级1）"
   ]
  },
  {
   "cell_type": "markdown",
   "metadata": {},
   "source": [
    "7.填空：利用sklearn定义神经网络分类器classifier=_______。（难度等级1）"
   ]
  },
  {
   "cell_type": "markdown",
   "metadata": {},
   "source": [
    "8.填空：利用sklearn定义决策树分类器classifier=_______。（难度等级1）"
   ]
  },
  {
   "cell_type": "markdown",
   "metadata": {},
   "source": [
    "9.填空：利用sklearn定义SVM分类器classifier=_______。（难度等级1）"
   ]
  },
  {
   "cell_type": "markdown",
   "metadata": {},
   "source": [
    "10.请写出从sklearn中导入逻辑回归文件包的语句。（难度等级1）"
   ]
  },
  {
   "cell_type": "markdown",
   "metadata": {},
   "source": [
    "11.请写出从sklearn中导入神经网络文件包的语句。（难度等级1）"
   ]
  },
  {
   "cell_type": "markdown",
   "metadata": {},
   "source": [
    "12.请写出从sklearn中导入决策树文件包的语句。（难度等级1）"
   ]
  },
  {
   "cell_type": "markdown",
   "metadata": {},
   "source": [
    "13.请写出从sklearn中导入SVM文件包的语句。（难度等级1）"
   ]
  },
  {
   "cell_type": "markdown",
   "metadata": {},
   "source": [
    "14.分类器的内核参数kernel通常状况下可以设置为哪三种值？（难度等级1）"
   ]
  },
  {
   "cell_type": "markdown",
   "metadata": {},
   "source": [
    "15.一个训练后的模型太过完美地拟合数据，称之为什么？这种情况好不好？为什么？（难度等级：2）"
   ]
  },
  {
   "cell_type": "markdown",
   "metadata": {},
   "source": [
    "16.Pandas和Numpy在Python中分别有什么作用？如果想要数据可视化，一般会采用哪种标准库？（难度等级：3）"
   ]
  },
  {
   "cell_type": "markdown",
   "metadata": {},
   "source": [
    "17.核方法下的支持向量机中，linear、poly，rbf在一般情况分别适用于什么结构的数据？我们应该怎样去选择kernel的类型？（难度等级：4）"
   ]
  }
 ],
 "metadata": {
  "anaconda-cloud": {},
  "celltoolbar": "Raw Cell Format",
  "kernelspec": {
   "display_name": "Python 3",
   "language": "python",
   "name": "python3"
  },
  "language_info": {
   "codemirror_mode": {
    "name": "ipython",
    "version": 3
   },
   "file_extension": ".py",
   "mimetype": "text/x-python",
   "name": "python",
   "nbconvert_exporter": "python",
   "pygments_lexer": "ipython3",
   "version": "3.6.2"
  }
 },
 "nbformat": 4,
 "nbformat_minor": 1
}
