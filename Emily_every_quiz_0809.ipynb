{
 "cells": [
  {
   "cell_type": "markdown",
   "metadata": {},
   "source": [
    "# 欢迎来到每日一题\n"
   ]
  },
  {
   "cell_type": "markdown",
   "metadata": {},
   "source": [
    "1.请以自己的理解简述混淆矩阵的作用？（难度等级：1）"
   ]
  },
  {
   "cell_type": "markdown",
   "metadata": {},
   "source": [
    "2.混淆矩阵的行列分别表示什么含义?（难度等级：1）"
   ]
  },
  {
   "cell_type": "markdown",
   "metadata": {},
   "source": [
    "3.假设样本总数为20000，模型的真正例，真负例，假正例，假负例的数量分别为10000,2000,6000,2000，请计算该模型的预测准确率。（难度等级：2）"
   ]
  },
  {
   "cell_type": "markdown",
   "metadata": {},
   "source": [
    "4.已知样本总数，真正例，真负例，假正例，假负例数量的情况下，请写出计算模型准确率的表达式。（难度等级：2）"
   ]
  },
  {
   "cell_type": "markdown",
   "metadata": {},
   "source": [
    "5.请写出从sklearn中导入准确率得分的语句。（难度等级：1）"
   ]
  },
  {
   "cell_type": "markdown",
   "metadata": {},
   "source": [
    "6.请写出：利用sklearn的accuracy_score计算模型准确率的代码语句。（真实值Y_True, 预测值Y_Pred）（难度等级1）"
   ]
  },
  {
   "cell_type": "markdown",
   "metadata": {},
   "source": [
    "7.混淆矩阵适用于监督学习，半监督学习还是无监督学习？（难度等级2）"
   ]
  },
  {
   "cell_type": "markdown",
   "metadata": {},
   "source": [
    "8.准确率是一种绝对好的衡量模型性能的指标么？为什么？（难度等级2）"
   ]
  },
  {
   "cell_type": "markdown",
   "metadata": {},
   "source": [
    "9.请以自己的理解，解释真正例的含义。（假设预测值和实际值均只有0和1两种，1为True，0为False）（难度等级1）"
   ]
  },
  {
   "cell_type": "markdown",
   "metadata": {},
   "source": [
    "10.请以自己的理解，解释真负例的含义。（假设预测值和实际值均只有0和1两种，1为True，0为False）（难度等级1）"
   ]
  },
  {
   "cell_type": "markdown",
   "metadata": {},
   "source": [
    "11.请以自己的理解，解释假正例的含义。（假设预测值和实际值均只有0和1两种，1为True，0为False）。（难度等级1）"
   ]
  },
  {
   "cell_type": "markdown",
   "metadata": {},
   "source": [
    "12.请以自己的理解，解释假负例的含义。（假设预测值和实际值均只有0和1两种，1为True，0为False）（难度等级1）"
   ]
  },
  {
   "cell_type": "markdown",
   "metadata": {},
   "source": [
    "13.模型的准确率高时，对应的真正例，真负例，假正例，假负例中，哪几种数据应当占总数比例高？（难度等级1）"
   ]
  },
  {
   "cell_type": "markdown",
   "metadata": {},
   "source": [
    "14.根据自己所掌握的知识，除准确率外，至少列举一种能够衡量模型性能的指标。（难度等级4）"
   ]
  },
  {
   "cell_type": "markdown",
   "metadata": {},
   "source": [
    "15.实际情况下误差不可避免，那么产生假正例一定会比假负例好么？如果不是，请举例说明。（难度等级：2）"
   ]
  },
  {
   "cell_type": "markdown",
   "metadata": {},
   "source": [
    "16.假设样本总数为20000，模型的真负例，假正例，假负例的数量分别为2000,6000,2000，请计算该模型的召回率。（真正例/（真正例+假负例））（难度等级：3）"
   ]
  },
  {
   "cell_type": "markdown",
   "metadata": {},
   "source": [
    "17.第一类错误和第二类错误的区别是什么？哪个是假正FP，哪个是假负FN（难度等级：3）"
   ]
  }
 ],
 "metadata": {
  "anaconda-cloud": {},
  "celltoolbar": "Raw Cell Format",
  "kernelspec": {
   "display_name": "Python 3",
   "language": "python",
   "name": "python3"
  },
  "language_info": {
   "codemirror_mode": {
    "name": "ipython",
    "version": 3
   },
   "file_extension": ".py",
   "mimetype": "text/x-python",
   "name": "python",
   "nbconvert_exporter": "python",
   "pygments_lexer": "ipython3",
   "version": "3.6.2"
  }
 },
 "nbformat": 4,
 "nbformat_minor": 1
}
